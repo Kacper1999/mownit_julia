{
 "cells": [
  {
   "cell_type": "code",
   "execution_count": 5,
   "metadata": {},
   "outputs": [
    {
     "name": "stderr",
     "output_type": "stream",
     "text": [
      "┌ Info: Precompiling DataFrames [a93c6f00-e57d-5684-b7b6-d8193f3e46c0]\n",
      "└ @ Base loading.jl:1273\n",
      "┌ Info: Precompiling CSV [336ed68f-0bac-5ca0-87d4-7b16caf5d00b]\n",
      "└ @ Base loading.jl:1273\n"
     ]
    }
   ],
   "source": [
    "using DataFrames, LinearAlgebra, CSV, Plots, Statistics"
   ]
  },
  {
   "cell_type": "code",
   "execution_count": 3,
   "metadata": {},
   "outputs": [
    {
     "data": {
      "text/plain": [
       "time_mlp (generic function with 1 method)"
      ]
     },
     "execution_count": 3,
     "metadata": {},
     "output_type": "execute_result"
    }
   ],
   "source": [
    "function time_dot(loops_num, lower_size, upper_size, step)\n",
    "    different_sizes_num = (upper_size - lower_size + step) ÷ step\n",
    "\n",
    "    types = [String]\n",
    "    types = vcat(types, [Float64 for i in 1:loops_num])\n",
    "    col_names = [Symbol(\"Type | size\")]\n",
    "    col_names = vcat(col_names, [Symbol(\"$i sample\") for i in 1:loops_num])\n",
    "    measurements = DataFrame(types, col_names, 0)\n",
    "\n",
    "    for i in lower_size:step:upper_size\n",
    "        row = []\n",
    "        push!(row, \"Dot product | $i\")\n",
    "        for j in 1:loops_num\n",
    "            v1 = rand(Int, i)\n",
    "            v2 = rand(Int, i)\n",
    "            push!(row, @elapsed LinearAlgebra.dot(v1, v2))\n",
    "        end\n",
    "        push!(measurements, row)\n",
    "    end\n",
    "    return measurements\n",
    "end\n",
    "\n",
    "\n",
    "function time_mlp(loops_num, lower_size, upper_size, step)\n",
    "    different_sizes_num = (upper_size - lower_size + step) ÷ step\n",
    "\n",
    "    types = [String]\n",
    "    types = vcat(types, [Float64 for i in 1:loops_num])\n",
    "    col_names = [Symbol(\"Type | size\")]\n",
    "    col_names = vcat(col_names, [Symbol(\"$i sample\") for i in 1:loops_num])\n",
    "    measurements = DataFrame(types, col_names, 0)\n",
    "\n",
    "    for i in lower_size:step:upper_size\n",
    "        row = []\n",
    "        push!(row, \"Matrix and vector MLP | $i\")\n",
    "        for j in 1:loops_num\n",
    "            m = rand(Int, (i, i))\n",
    "            v = rand(Int, (i, 1))\n",
    "            push!(row, @elapsed m * v)\n",
    "        end\n",
    "        push!(measurements, row)\n",
    "    end\n",
    "    return measurements\n",
    "end"
   ]
  },
  {
   "cell_type": "code",
   "execution_count": 4,
   "metadata": {},
   "outputs": [
    {
     "data": {
      "text/html": [
       "<table class=\"data-frame\"><thead><tr><th></th><th>Type | size</th><th>1 sample</th><th>2 sample</th><th>3 sample</th><th>4 sample</th><th>5 sample</th></tr><tr><th></th><th>String</th><th>Float64</th><th>Float64</th><th>Float64</th><th>Float64</th><th>Float64</th></tr></thead><tbody><p>63 rows × 11 columns (omitted printing of 5 columns)</p><tr><th>1</th><td>Dot product | 10000</td><td>1.9599e-5</td><td>3.0e-6</td><td>4.0e-6</td><td>3.501e-6</td><td>3.6e-6</td></tr><tr><th>2</th><td>Dot product | 210000</td><td>0.0001039</td><td>0.0001236</td><td>0.0001016</td><td>0.000127901</td><td>0.000113399</td></tr><tr><th>3</th><td>Dot product | 410000</td><td>0.0002382</td><td>0.000229899</td><td>0.000247599</td><td>0.0002427</td><td>0.0002339</td></tr><tr><th>4</th><td>Dot product | 610000</td><td>0.000433699</td><td>0.0007253</td><td>0.0006976</td><td>0.000448599</td><td>0.000399101</td></tr><tr><th>5</th><td>Dot product | 810000</td><td>0.0006558</td><td>0.000643001</td><td>0.0010492</td><td>0.0013985</td><td>0.000570499</td></tr><tr><th>6</th><td>Dot product | 1010000</td><td>0.0008192</td><td>0.001544</td><td>0.0011974</td><td>0.0010632</td><td>0.000855799</td></tr><tr><th>7</th><td>Dot product | 1210000</td><td>0.0013467</td><td>0.0010681</td><td>0.0010695</td><td>0.0011069</td><td>0.0011273</td></tr><tr><th>8</th><td>Dot product | 1410000</td><td>0.0014537</td><td>0.0015848</td><td>0.0014624</td><td>0.0017583</td><td>0.0012608</td></tr><tr><th>9</th><td>Dot product | 1610000</td><td>0.0014817</td><td>0.0014607</td><td>0.0014574</td><td>0.0014449</td><td>0.0015262</td></tr><tr><th>10</th><td>Dot product | 1810000</td><td>0.0023514</td><td>0.0018066</td><td>0.0018087</td><td>0.001832</td><td>0.0016994</td></tr><tr><th>11</th><td>Dot product | 2010000</td><td>0.0021058</td><td>0.0019355</td><td>0.0019994</td><td>0.0019208</td><td>0.0024391</td></tr><tr><th>12</th><td>Dot product | 2210000</td><td>0.0022076</td><td>0.0039539</td><td>0.0035197</td><td>0.0023025</td><td>0.0024868</td></tr><tr><th>13</th><td>Dot product | 2410000</td><td>0.0024915</td><td>0.0024968</td><td>0.002534</td><td>0.0023791</td><td>0.0025636</td></tr><tr><th>14</th><td>Dot product | 2610000</td><td>0.0037556</td><td>0.0029848</td><td>0.0025022</td><td>0.0025141</td><td>0.0025342</td></tr><tr><th>15</th><td>Dot product | 2810000</td><td>0.0027417</td><td>0.0028209</td><td>0.0028174</td><td>0.0027249</td><td>0.0028326</td></tr><tr><th>16</th><td>Dot product | 3010000</td><td>0.0030926</td><td>0.0033263</td><td>0.0031574</td><td>0.0032909</td><td>0.0032576</td></tr><tr><th>17</th><td>Dot product | 3210000</td><td>0.0032692</td><td>0.0037345</td><td>0.0032196</td><td>0.0031905</td><td>0.0033272</td></tr><tr><th>18</th><td>Dot product | 3410000</td><td>0.003703</td><td>0.0035367</td><td>0.0034782</td><td>0.0034345</td><td>0.0034422</td></tr><tr><th>19</th><td>Dot product | 3610000</td><td>0.0036464</td><td>0.0040027</td><td>0.003577</td><td>0.0036611</td><td>0.0038725</td></tr><tr><th>20</th><td>Dot product | 3810000</td><td>0.0038285</td><td>0.0037917</td><td>0.0038937</td><td>0.0048803</td><td>0.0040024</td></tr><tr><th>21</th><td>Dot product | 4010000</td><td>0.0041456</td><td>0.0044334</td><td>0.004149</td><td>0.0043669</td><td>0.0041544</td></tr><tr><th>22</th><td>Dot product | 4210000</td><td>0.0042012</td><td>0.0049798</td><td>0.0042553</td><td>0.004182</td><td>0.0041467</td></tr><tr><th>23</th><td>Dot product | 4410000</td><td>0.0049776</td><td>0.0049401</td><td>0.0048182</td><td>0.0054239</td><td>0.0057915</td></tr><tr><th>24</th><td>Dot product | 4610000</td><td>0.0046653</td><td>0.0047827</td><td>0.0046829</td><td>0.0045666</td><td>0.0046115</td></tr><tr><th>25</th><td>Dot product | 4810000</td><td>0.0050486</td><td>0.0049841</td><td>0.0056416</td><td>0.0049977</td><td>0.0054766</td></tr><tr><th>26</th><td>Dot product | 5010000</td><td>0.0051153</td><td>0.0054613</td><td>0.0050943</td><td>0.0051753</td><td>0.0051616</td></tr><tr><th>27</th><td>Dot product | 5210000</td><td>0.0053909</td><td>0.0057254</td><td>0.0053263</td><td>0.0078064</td><td>0.0056264</td></tr><tr><th>28</th><td>Dot product | 5410000</td><td>0.0059604</td><td>0.0062065</td><td>0.0056638</td><td>0.0066871</td><td>0.0063881</td></tr><tr><th>29</th><td>Dot product | 5610000</td><td>0.0072662</td><td>0.0064382</td><td>0.0060074</td><td>0.0066398</td><td>0.0063842</td></tr><tr><th>30</th><td>Dot product | 5810000</td><td>0.0072021</td><td>0.0062603</td><td>0.0066973</td><td>0.0081751</td><td>0.0066756</td></tr><tr><th>&vellip;</th><td>&vellip;</td><td>&vellip;</td><td>&vellip;</td><td>&vellip;</td><td>&vellip;</td><td>&vellip;</td></tr></tbody></table>"
      ],
      "text/latex": [
       "\\begin{tabular}{r|ccccccc}\n",
       "\t& Type | size & 1 sample & 2 sample & 3 sample & 4 sample & 5 sample & \\\\\n",
       "\t\\hline\n",
       "\t& String & Float64 & Float64 & Float64 & Float64 & Float64 & \\\\\n",
       "\t\\hline\n",
       "\t1 & Dot product | 10000 & 1.9599e-5 & 3.0e-6 & 4.0e-6 & 3.501e-6 & 3.6e-6 & $\\dots$ \\\\\n",
       "\t2 & Dot product | 210000 & 0.0001039 & 0.0001236 & 0.0001016 & 0.000127901 & 0.000113399 & $\\dots$ \\\\\n",
       "\t3 & Dot product | 410000 & 0.0002382 & 0.000229899 & 0.000247599 & 0.0002427 & 0.0002339 & $\\dots$ \\\\\n",
       "\t4 & Dot product | 610000 & 0.000433699 & 0.0007253 & 0.0006976 & 0.000448599 & 0.000399101 & $\\dots$ \\\\\n",
       "\t5 & Dot product | 810000 & 0.0006558 & 0.000643001 & 0.0010492 & 0.0013985 & 0.000570499 & $\\dots$ \\\\\n",
       "\t6 & Dot product | 1010000 & 0.0008192 & 0.001544 & 0.0011974 & 0.0010632 & 0.000855799 & $\\dots$ \\\\\n",
       "\t7 & Dot product | 1210000 & 0.0013467 & 0.0010681 & 0.0010695 & 0.0011069 & 0.0011273 & $\\dots$ \\\\\n",
       "\t8 & Dot product | 1410000 & 0.0014537 & 0.0015848 & 0.0014624 & 0.0017583 & 0.0012608 & $\\dots$ \\\\\n",
       "\t9 & Dot product | 1610000 & 0.0014817 & 0.0014607 & 0.0014574 & 0.0014449 & 0.0015262 & $\\dots$ \\\\\n",
       "\t10 & Dot product | 1810000 & 0.0023514 & 0.0018066 & 0.0018087 & 0.001832 & 0.0016994 & $\\dots$ \\\\\n",
       "\t11 & Dot product | 2010000 & 0.0021058 & 0.0019355 & 0.0019994 & 0.0019208 & 0.0024391 & $\\dots$ \\\\\n",
       "\t12 & Dot product | 2210000 & 0.0022076 & 0.0039539 & 0.0035197 & 0.0023025 & 0.0024868 & $\\dots$ \\\\\n",
       "\t13 & Dot product | 2410000 & 0.0024915 & 0.0024968 & 0.002534 & 0.0023791 & 0.0025636 & $\\dots$ \\\\\n",
       "\t14 & Dot product | 2610000 & 0.0037556 & 0.0029848 & 0.0025022 & 0.0025141 & 0.0025342 & $\\dots$ \\\\\n",
       "\t15 & Dot product | 2810000 & 0.0027417 & 0.0028209 & 0.0028174 & 0.0027249 & 0.0028326 & $\\dots$ \\\\\n",
       "\t16 & Dot product | 3010000 & 0.0030926 & 0.0033263 & 0.0031574 & 0.0032909 & 0.0032576 & $\\dots$ \\\\\n",
       "\t17 & Dot product | 3210000 & 0.0032692 & 0.0037345 & 0.0032196 & 0.0031905 & 0.0033272 & $\\dots$ \\\\\n",
       "\t18 & Dot product | 3410000 & 0.003703 & 0.0035367 & 0.0034782 & 0.0034345 & 0.0034422 & $\\dots$ \\\\\n",
       "\t19 & Dot product | 3610000 & 0.0036464 & 0.0040027 & 0.003577 & 0.0036611 & 0.0038725 & $\\dots$ \\\\\n",
       "\t20 & Dot product | 3810000 & 0.0038285 & 0.0037917 & 0.0038937 & 0.0048803 & 0.0040024 & $\\dots$ \\\\\n",
       "\t21 & Dot product | 4010000 & 0.0041456 & 0.0044334 & 0.004149 & 0.0043669 & 0.0041544 & $\\dots$ \\\\\n",
       "\t22 & Dot product | 4210000 & 0.0042012 & 0.0049798 & 0.0042553 & 0.004182 & 0.0041467 & $\\dots$ \\\\\n",
       "\t23 & Dot product | 4410000 & 0.0049776 & 0.0049401 & 0.0048182 & 0.0054239 & 0.0057915 & $\\dots$ \\\\\n",
       "\t24 & Dot product | 4610000 & 0.0046653 & 0.0047827 & 0.0046829 & 0.0045666 & 0.0046115 & $\\dots$ \\\\\n",
       "\t25 & Dot product | 4810000 & 0.0050486 & 0.0049841 & 0.0056416 & 0.0049977 & 0.0054766 & $\\dots$ \\\\\n",
       "\t26 & Dot product | 5010000 & 0.0051153 & 0.0054613 & 0.0050943 & 0.0051753 & 0.0051616 & $\\dots$ \\\\\n",
       "\t27 & Dot product | 5210000 & 0.0053909 & 0.0057254 & 0.0053263 & 0.0078064 & 0.0056264 & $\\dots$ \\\\\n",
       "\t28 & Dot product | 5410000 & 0.0059604 & 0.0062065 & 0.0056638 & 0.0066871 & 0.0063881 & $\\dots$ \\\\\n",
       "\t29 & Dot product | 5610000 & 0.0072662 & 0.0064382 & 0.0060074 & 0.0066398 & 0.0063842 & $\\dots$ \\\\\n",
       "\t30 & Dot product | 5810000 & 0.0072021 & 0.0062603 & 0.0066973 & 0.0081751 & 0.0066756 & $\\dots$ \\\\\n",
       "\t$\\dots$ & $\\dots$ & $\\dots$ & $\\dots$ & $\\dots$ & $\\dots$ & $\\dots$ &  \\\\\n",
       "\\end{tabular}\n"
      ],
      "text/plain": [
       "63×11 DataFrame. Omitted printing of 7 columns\n",
       "│ Row │ Type | size                  │ 1 sample    │ 2 sample    │ 3 sample    │\n",
       "│     │ \u001b[90mString\u001b[39m                       │ \u001b[90mFloat64\u001b[39m     │ \u001b[90mFloat64\u001b[39m     │ \u001b[90mFloat64\u001b[39m     │\n",
       "├─────┼──────────────────────────────┼─────────────┼─────────────┼─────────────┤\n",
       "│ 1   │ Dot product | 10000          │ 1.9599e-5   │ 3.0e-6      │ 4.0e-6      │\n",
       "│ 2   │ Dot product | 210000         │ 0.0001039   │ 0.0001236   │ 0.0001016   │\n",
       "│ 3   │ Dot product | 410000         │ 0.0002382   │ 0.000229899 │ 0.000247599 │\n",
       "│ 4   │ Dot product | 610000         │ 0.000433699 │ 0.0007253   │ 0.0006976   │\n",
       "│ 5   │ Dot product | 810000         │ 0.0006558   │ 0.000643001 │ 0.0010492   │\n",
       "│ 6   │ Dot product | 1010000        │ 0.0008192   │ 0.001544    │ 0.0011974   │\n",
       "│ 7   │ Dot product | 1210000        │ 0.0013467   │ 0.0010681   │ 0.0010695   │\n",
       "│ 8   │ Dot product | 1410000        │ 0.0014537   │ 0.0015848   │ 0.0014624   │\n",
       "│ 9   │ Dot product | 1610000        │ 0.0014817   │ 0.0014607   │ 0.0014574   │\n",
       "│ 10  │ Dot product | 1810000        │ 0.0023514   │ 0.0018066   │ 0.0018087   │\n",
       "⋮\n",
       "│ 53  │ Matrix and vector MLP | 500  │ 0.000464    │ 0.0003452   │ 0.000342901 │\n",
       "│ 54  │ Matrix and vector MLP | 550  │ 0.000463701 │ 0.0004705   │ 0.0004386   │\n",
       "│ 55  │ Matrix and vector MLP | 600  │ 0.0013962   │ 0.000758799 │ 0.000759101 │\n",
       "│ 56  │ Matrix and vector MLP | 650  │ 0.0010261   │ 0.000591901 │ 0.0010661   │\n",
       "│ 57  │ Matrix and vector MLP | 700  │ 0.000825501 │ 0.0009097   │ 0.0008619   │\n",
       "│ 58  │ Matrix and vector MLP | 750  │ 0.00226     │ 0.000880899 │ 0.0009598   │\n",
       "│ 59  │ Matrix and vector MLP | 800  │ 0.0008598   │ 0.0013014   │ 0.0009938   │\n",
       "│ 60  │ Matrix and vector MLP | 850  │ 0.0010033   │ 0.0011645   │ 0.0010071   │\n",
       "│ 61  │ Matrix and vector MLP | 900  │ 0.0010829   │ 0.0014387   │ 0.0017259   │\n",
       "│ 62  │ Matrix and vector MLP | 950  │ 0.0023349   │ 0.0015333   │ 0.0014975   │\n",
       "│ 63  │ Matrix and vector MLP | 1000 │ 0.001531    │ 0.0029085   │ 0.0020277   │"
      ]
     },
     "execution_count": 4,
     "metadata": {},
     "output_type": "execute_result"
    }
   ],
   "source": [
    "LOOPS_NUM = 10\n",
    "\n",
    "DOT_LOWER = 10000\n",
    "DOT_UPPER = 10000000\n",
    "DOT_STEP = 200000\n",
    "DOT_NUM = (DOT_UPPER - DOT_LOWER + DOT_STEP) ÷ DOT_STEP\n",
    "\n",
    "MLP_LOWER = 400\n",
    "MLP_UPPER = 1000\n",
    "MLP_STEP = 50\n",
    "MLP_NUM = (MLP_UPPER - MLP_LOWER + MLP_STEP) ÷ MLP_STEP\n",
    "\n",
    "dot = time_dot(LOOPS_NUM, DOT_LOWER, DOT_UPPER, DOT_STEP)\n",
    "mlp = time_mlp(LOOPS_NUM, MLP_LOWER, MLP_UPPER, MLP_STEP)\n",
    "result = vcat(dot, mlp)"
   ]
  },
  {
   "cell_type": "code",
   "execution_count": 6,
   "metadata": {},
   "outputs": [
    {
     "ename": "UndefVarError",
     "evalue": "UndefVarError: result not defined",
     "output_type": "error",
     "traceback": [
      "UndefVarError: result not defined",
      "",
      "Stacktrace:",
      " [1] top-level scope at In[6]:1"
     ]
    }
   ],
   "source": [
    "CSV.write(\"lab2.csv\", result)"
   ]
  },
  {
   "cell_type": "code",
   "execution_count": 7,
   "metadata": {},
   "outputs": [
    {
     "ename": "UndefVarError",
     "evalue": "UndefVarError: DOT_LOWER not defined",
     "output_type": "error",
     "traceback": [
      "UndefVarError: DOT_LOWER not defined",
      "",
      "Stacktrace:",
      " [1] top-level scope at In[7]:9"
     ]
    }
   ],
   "source": [
    "data = CSV.read(\"lab2.csv\")\n",
    "stds = []\n",
    "means = []\n",
    "\n",
    "for row in eachrow(data)\n",
    "    append!(means, mean(row[2:end]))\n",
    "    append!(stds, std(row[2:end], mean=means[end]))\n",
    "end\n",
    "\n",
    "p1 = scatter(DOT_LOWER:DOT_STEP:DOT_UPPER, means[1:DOT_NUM], yerr=stds[1:DOT_NUM], \n",
    "    title=\"Dot Time\", xlabel=\"Vector size\", ylabel=\"Time[s]\")\n",
    "p2 = scatter(MLP_LOWER:MLP_STEP:MLP_UPPER, means[(DOT_NUM + 1):end], yerr=stds[(DOT_NUM + 1):end], \n",
    "    title=\"MLP Time\", xlabel=\"Matrix and vector length\", ylabel=\"Time[s]\")\n",
    "scatter(p1, p2, layout=2)"
   ]
  },
  {
   "cell_type": "code",
   "execution_count": null,
   "metadata": {},
   "outputs": [],
   "source": []
  }
 ],
 "metadata": {
  "kernelspec": {
   "display_name": "Julia 1.3.1",
   "language": "julia",
   "name": "julia-1.3"
  },
  "language_info": {
   "file_extension": ".jl",
   "mimetype": "application/julia",
   "name": "julia",
   "version": "1.3.1"
  }
 },
 "nbformat": 4,
 "nbformat_minor": 2
}
