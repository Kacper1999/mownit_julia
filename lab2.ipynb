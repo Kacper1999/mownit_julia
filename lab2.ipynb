{
 "cells": [
  {
   "cell_type": "code",
   "execution_count": 6,
   "metadata": {},
   "outputs": [],
   "source": [
    "using DataFrames"
   ]
  },
  {
   "cell_type": "code",
   "execution_count": 44,
   "metadata": {},
   "outputs": [
    {
     "name": "stdout",
     "output_type": "stream",
     "text": [
      "3\n"
     ]
    },
    {
     "ename": "ErrorException",
     "evalue": "syntax: invalid keyword argument name \"sy[1]\"",
     "output_type": "error",
     "traceback": [
      "syntax: invalid keyword argument name \"sy[1]\"",
      "",
      "Stacktrace:",
      " [1] top-level scope at C:\\Users\\Kacper\\.julia\\packages\\IJulia\\yLI42\\src\\kernel.jl:52"
     ]
    }
   ],
   "source": [
    "sy = [Symbol(\"col$i\") for i in 1:10]\n",
    "col1 = 3\n",
    "println(eval(sy[1]))\n",
    "df = DataFrame(sy[1] = 1:10)"
   ]
  },
  {
   "cell_type": "code",
   "execution_count": 50,
   "metadata": {},
   "outputs": [
    {
     "ename": "MethodError",
     "evalue": "MethodError: Cannot `convert` an object of type Int64 to an object of type Array{Int64,2}\nClosest candidates are:\n  convert(::Type{Array{S,N}}, !Matched::PooledArrays.PooledArray{T,R,N,RA} where RA) where {S, T, R, N} at C:\\Users\\Kacper\\.julia\\packages\\PooledArrays\\yiLq3\\src\\PooledArrays.jl:294\n  convert(::Type{T}, !Matched::AbstractArray) where T<:Array at array.jl:490\n  convert(::Type{T}, !Matched::T) where T<:AbstractArray at abstractarray.jl:14\n  ...",
     "output_type": "error",
     "traceback": [
      "MethodError: Cannot `convert` an object of type Int64 to an object of type Array{Int64,2}\nClosest candidates are:\n  convert(::Type{Array{S,N}}, !Matched::PooledArrays.PooledArray{T,R,N,RA} where RA) where {S, T, R, N} at C:\\Users\\Kacper\\.julia\\packages\\PooledArrays\\yiLq3\\src\\PooledArrays.jl:294\n  convert(::Type{T}, !Matched::AbstractArray) where T<:Array at array.jl:490\n  convert(::Type{T}, !Matched::T) where T<:AbstractArray at abstractarray.jl:14\n  ...",
      "",
      "Stacktrace:",
      " [1] setindex!(::Array{Array{Int64,2},1}, ::Int64, ::Int64) at .\\array.jl:782",
      " [2] getindex(::Type{Array{Int64,2}}, ::Int64) at .\\array.jl:368",
      " [3] top-level scope at In[50]:2"
     ]
    }
   ],
   "source": []
  },
  {
   "cell_type": "code",
   "execution_count": 29,
   "metadata": {},
   "outputs": [
    {
     "name": "stdout",
     "output_type": "stream",
     "text": [
      "1000\n",
      "  0.623945 seconds (12 allocations: 22.889 MiB, 1.91% gc time)\n",
      "  0.625640 seconds (12 allocations: 22.889 MiB)\n",
      "  0.597359 seconds (12 allocations: 22.889 MiB, 1.09% gc time)\n",
      "  0.607131 seconds (12 allocations: 22.889 MiB)\n",
      "  0.615666 seconds (12 allocations: 22.889 MiB, 0.74% gc time)\n",
      "  0.598711 seconds (12 allocations: 22.889 MiB)\n",
      "  0.632243 seconds (12 allocations: 22.889 MiB, 3.56% gc time)\n",
      "  0.661237 seconds (12 allocations: 22.889 MiB)\n",
      "  0.688068 seconds (12 allocations: 22.889 MiB, 11.84% gc time)\n",
      "  0.626152 seconds (12 allocations: 22.889 MiB)\n",
      "\n",
      "1001\n",
      "  0.684548 seconds (12 allocations: 22.935 MiB, 8.33% gc time)\n",
      "  0.611046 seconds (12 allocations: 22.935 MiB)\n",
      "  0.619651 seconds (12 allocations: 22.935 MiB, 0.71% gc time)\n",
      "  0.620911 seconds (12 allocations: 22.935 MiB)\n",
      "  0.638202 seconds (12 allocations: 22.935 MiB, 0.66% gc time)\n",
      "  0.620345 seconds (12 allocations: 22.935 MiB)\n",
      "  0.623943 seconds (12 allocations: 22.935 MiB, 0.68% gc time)\n",
      "  0.624601 seconds (12 allocations: 22.935 MiB)\n",
      "  0.630255 seconds (12 allocations: 22.935 MiB, 0.82% gc time)\n",
      "  0.606062 seconds (12 allocations: 22.935 MiB)\n",
      "\n"
     ]
    }
   ],
   "source": [
    "using LinearAlgebra\n",
    "\n",
    "function write_dot(loops_num, lower_size, upper_size)\n",
    "    for i in lower_size:upper_size\n",
    "        for j in 1:loops_num\n",
    "            @time LinearAlgebra.dot(rand(Int, i), rand(Int, i))\n",
    "        end\n",
    "    end\n",
    "end\n",
    "\n",
    "function write_mlp(loops_num, lower_size, upper_size)\n",
    "    df = DataFrame()\n",
    "    for i in lower_size:upper_size\n",
    "        for j in 1:loops_num\n",
    "            @time rand(Int, (i, i)) * rand(Int, (i, i))\n",
    "        end\n",
    "        println()\n",
    "    end\n",
    "end\n",
    "    \n",
    "\n",
    "time_mlp(10, 1000, 1001)"
   ]
  },
  {
   "cell_type": "code",
   "execution_count": 30,
   "metadata": {},
   "outputs": [
    {
     "ename": "Pkg.Types.PkgError",
     "evalue": "The following package names could not be resolved:\n * CVS (not found in project, manifest or registry)\nPlease specify by known `name=uuid`.",
     "output_type": "error",
     "traceback": [
      "The following package names could not be resolved:\n * CVS (not found in project, manifest or registry)\nPlease specify by known `name=uuid`.",
      "",
      "Stacktrace:",
      " [1] pkgerror(::String) at D:\\buildbot\\worker\\package_win64\\build\\usr\\share\\julia\\stdlib\\v1.3\\Pkg\\src\\Types.jl:113",
      " [2] #ensure_resolved#101(::Bool, ::typeof(Pkg.Types.ensure_resolved), ::Pkg.Types.EnvCache, ::Array{Pkg.Types.PackageSpec,1}) at D:\\buildbot\\worker\\package_win64\\build\\usr\\share\\julia\\stdlib\\v1.3\\Pkg\\src\\Types.jl:936",
      " [3] #ensure_resolved at .\\none:0 [inlined]",
      " [4] #add#25(::Bool, ::Pkg.BinaryPlatforms.Windows, ::Base.Iterators.Pairs{Union{},Union{},Tuple{},NamedTuple{(),Tuple{}}}, ::typeof(Pkg.API.add), ::Pkg.Types.Context, ::Array{Pkg.Types.PackageSpec,1}) at D:\\buildbot\\worker\\package_win64\\build\\usr\\share\\julia\\stdlib\\v1.3\\Pkg\\src\\API.jl:97",
      " [5] add(::Pkg.Types.Context, ::Array{Pkg.Types.PackageSpec,1}) at D:\\buildbot\\worker\\package_win64\\build\\usr\\share\\julia\\stdlib\\v1.3\\Pkg\\src\\API.jl:72",
      " [6] #add#24 at D:\\buildbot\\worker\\package_win64\\build\\usr\\share\\julia\\stdlib\\v1.3\\Pkg\\src\\API.jl:69 [inlined]",
      " [7] add at D:\\buildbot\\worker\\package_win64\\build\\usr\\share\\julia\\stdlib\\v1.3\\Pkg\\src\\API.jl:69 [inlined]",
      " [8] #add#21 at D:\\buildbot\\worker\\package_win64\\build\\usr\\share\\julia\\stdlib\\v1.3\\Pkg\\src\\API.jl:67 [inlined]",
      " [9] add at D:\\buildbot\\worker\\package_win64\\build\\usr\\share\\julia\\stdlib\\v1.3\\Pkg\\src\\API.jl:67 [inlined]",
      " [10] #add#20(::Base.Iterators.Pairs{Union{},Union{},Tuple{},NamedTuple{(),Tuple{}}}, ::typeof(Pkg.API.add), ::String) at D:\\buildbot\\worker\\package_win64\\build\\usr\\share\\julia\\stdlib\\v1.3\\Pkg\\src\\API.jl:66",
      " [11] add(::String) at D:\\buildbot\\worker\\package_win64\\build\\usr\\share\\julia\\stdlib\\v1.3\\Pkg\\src\\API.jl:66",
      " [12] top-level scope at In[30]:1"
     ]
    }
   ],
   "source": []
  },
  {
   "cell_type": "code",
   "execution_count": 27,
   "metadata": {},
   "outputs": [
    {
     "ename": "MethodError",
     "evalue": "MethodError: no method matching getindex(::DataFrameRow{DataFrame,DataFrames.Index}, ::typeof(!), ::Int64)\nClosest candidates are:\n  getindex(::DataFrameRow, !Matched::Union{Signed, Symbol, Unsigned}) at C:\\Users\\Kacper\\.julia\\packages\\DataFrames\\S3ZFo\\src\\dataframerow\\dataframerow.jl:94\n  getindex(::DataFrameRow, !Matched::Union{Regex, AbstractArray{T,1} where T, All, Between, InvertedIndex}) at C:\\Users\\Kacper\\.julia\\packages\\DataFrames\\S3ZFo\\src\\dataframerow\\dataframerow.jl:96\n  getindex(::DataFrameRow, !Matched::Colon) at C:\\Users\\Kacper\\.julia\\packages\\DataFrames\\S3ZFo\\src\\dataframerow\\dataframerow.jl:98",
     "output_type": "error",
     "traceback": [
      "MethodError: no method matching getindex(::DataFrameRow{DataFrame,DataFrames.Index}, ::typeof(!), ::Int64)\nClosest candidates are:\n  getindex(::DataFrameRow, !Matched::Union{Signed, Symbol, Unsigned}) at C:\\Users\\Kacper\\.julia\\packages\\DataFrames\\S3ZFo\\src\\dataframerow\\dataframerow.jl:94\n  getindex(::DataFrameRow, !Matched::Union{Regex, AbstractArray{T,1} where T, All, Between, InvertedIndex}) at C:\\Users\\Kacper\\.julia\\packages\\DataFrames\\S3ZFo\\src\\dataframerow\\dataframerow.jl:96\n  getindex(::DataFrameRow, !Matched::Colon) at C:\\Users\\Kacper\\.julia\\packages\\DataFrames\\S3ZFo\\src\\dataframerow\\dataframerow.jl:98",
      "",
      "Stacktrace:",
      " [1] top-level scope at In[27]:2"
     ]
    }
   ],
   "source": [
    "x = DataFrames.first(df2)\n",
    "x[!, 2]"
   ]
  }
 ],
 "metadata": {
  "kernelspec": {
   "display_name": "Julia 1.3.1",
   "language": "julia",
   "name": "julia-1.3"
  },
  "language_info": {
   "file_extension": ".jl",
   "mimetype": "application/julia",
   "name": "julia",
   "version": "1.3.1"
  }
 },
 "nbformat": 4,
 "nbformat_minor": 2
}
