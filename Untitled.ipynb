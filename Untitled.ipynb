{
 "cells": [
  {
   "cell_type": "code",
   "execution_count": 3,
   "metadata": {},
   "outputs": [
    {
     "name": "stdout",
     "output_type": "stream",
     "text": [
      "\u001b[32m\u001b[1m  Updating\u001b[22m\u001b[39m registry at `C:\\Users\\Kacper\\.julia\\registries\\General`\n",
      "\u001b[32m\u001b[1m  Updating\u001b[22m\u001b[39m git-repo `https://github.com/JuliaRegistries/General.git`\n",
      "\u001b[?25l\u001b[2K\u001b[?25h\u001b[32m\u001b[1m Resolving\u001b[22m\u001b[39m package versions...\n",
      "\u001b[32m\u001b[1m  Updating\u001b[22m\u001b[39m `C:\\Users\\Kacper\\.julia\\environments\\v1.3\\Project.toml`\n",
      "\u001b[90m [no changes]\u001b[39m\n",
      "\u001b[32m\u001b[1m  Updating\u001b[22m\u001b[39m `C:\\Users\\Kacper\\.julia\\environments\\v1.3\\Manifest.toml`\n",
      "\u001b[90m [no changes]\u001b[39m\n"
     ]
    }
   ],
   "source": [
    "using Pkg\n",
    "Pkg.add(\"DataFrames\")\n",
    "using DataFrames"
   ]
  },
  {
   "cell_type": "code",
   "execution_count": 5,
   "metadata": {},
   "outputs": [
    {
     "data": {
      "text/html": [
       "<table class=\"data-frame\"><thead><tr><th></th><th>MojaKolumna</th><th>Col2</th><th>Col3</th></tr><tr><th></th><th>Int64</th><th>Float64</th><th>Bool</th></tr></thead><tbody><p>10 rows × 3 columns</p><tr><th>1</th><td>1</td><td>2.0</td><td>1</td></tr><tr><th>2</th><td>2</td><td>3.14159</td><td>1</td></tr><tr><th>3</th><td>3</td><td>1.41421</td><td>0</td></tr><tr><th>4</th><td>4</td><td>3.0</td><td>1</td></tr><tr><th>5</th><td>5</td><td>4.0</td><td>0</td></tr><tr><th>6</th><td>6</td><td>2.0</td><td>1</td></tr><tr><th>7</th><td>7</td><td>3.14159</td><td>1</td></tr><tr><th>8</th><td>8</td><td>1.41421</td><td>0</td></tr><tr><th>9</th><td>9</td><td>3.0</td><td>1</td></tr><tr><th>10</th><td>10</td><td>4.0</td><td>0</td></tr></tbody></table>"
      ],
      "text/latex": [
       "\\begin{tabular}{r|ccc}\n",
       "\t& MojaKolumna & Col2 & Col3\\\\\n",
       "\t\\hline\n",
       "\t& Int64 & Float64 & Bool\\\\\n",
       "\t\\hline\n",
       "\t1 & 1 & 2.0 & 1 \\\\\n",
       "\t2 & 2 & 3.14159 & 1 \\\\\n",
       "\t3 & 3 & 1.41421 & 0 \\\\\n",
       "\t4 & 4 & 3.0 & 1 \\\\\n",
       "\t5 & 5 & 4.0 & 0 \\\\\n",
       "\t6 & 6 & 2.0 & 1 \\\\\n",
       "\t7 & 7 & 3.14159 & 1 \\\\\n",
       "\t8 & 8 & 1.41421 & 0 \\\\\n",
       "\t9 & 9 & 3.0 & 1 \\\\\n",
       "\t10 & 10 & 4.0 & 0 \\\\\n",
       "\\end{tabular}\n"
      ],
      "text/plain": [
       "10×3 DataFrame\n",
       "│ Row │ MojaKolumna │ Col2    │ Col3 │\n",
       "│     │ \u001b[90mInt64\u001b[39m       │ \u001b[90mFloat64\u001b[39m │ \u001b[90mBool\u001b[39m │\n",
       "├─────┼─────────────┼─────────┼──────┤\n",
       "│ 1   │ 1           │ 2.0     │ 1    │\n",
       "│ 2   │ 2           │ 3.14159 │ 1    │\n",
       "│ 3   │ 3           │ 1.41421 │ 0    │\n",
       "│ 4   │ 4           │ 3.0     │ 1    │\n",
       "│ 5   │ 5           │ 4.0     │ 0    │\n",
       "│ 6   │ 6           │ 2.0     │ 1    │\n",
       "│ 7   │ 7           │ 3.14159 │ 1    │\n",
       "│ 8   │ 8           │ 1.41421 │ 0    │\n",
       "│ 9   │ 9           │ 3.0     │ 1    │\n",
       "│ 10  │ 10          │ 4.0     │ 0    │"
      ]
     },
     "execution_count": 5,
     "metadata": {},
     "output_type": "execute_result"
    }
   ],
   "source": [
    "df2=DataFrame(MojaKolumna=1:10, \n",
    "    Col2=[2,pi, sqrt(2), 3, 4,2,pi, sqrt(2), 3, 4], \n",
    "    Col3=[true,true,false,true,false,true,true,false,true,false])"
   ]
  },
  {
   "cell_type": "code",
   "execution_count": 10,
   "metadata": {},
   "outputs": [
    {
     "data": {
      "text/plain": [
       "10-element Array{Float64,1}:\n",
       " 2.0               \n",
       " 3.141592653589793 \n",
       " 1.4142135623730951\n",
       " 3.0               \n",
       " 4.0               \n",
       " 2.0               \n",
       " 3.141592653589793 \n",
       " 1.4142135623730951\n",
       " 3.0               \n",
       " 4.0               "
      ]
     },
     "execution_count": 10,
     "metadata": {},
     "output_type": "execute_result"
    }
   ],
   "source": [
    "df2[!,2]"
   ]
  },
  {
   "cell_type": "code",
   "execution_count": 27,
   "metadata": {},
   "outputs": [
    {
     "ename": "MethodError",
     "evalue": "MethodError: no method matching getindex(::DataFrameRow{DataFrame,DataFrames.Index}, ::typeof(!), ::Int64)\nClosest candidates are:\n  getindex(::DataFrameRow, !Matched::Union{Signed, Symbol, Unsigned}) at C:\\Users\\Kacper\\.julia\\packages\\DataFrames\\S3ZFo\\src\\dataframerow\\dataframerow.jl:94\n  getindex(::DataFrameRow, !Matched::Union{Regex, AbstractArray{T,1} where T, All, Between, InvertedIndex}) at C:\\Users\\Kacper\\.julia\\packages\\DataFrames\\S3ZFo\\src\\dataframerow\\dataframerow.jl:96\n  getindex(::DataFrameRow, !Matched::Colon) at C:\\Users\\Kacper\\.julia\\packages\\DataFrames\\S3ZFo\\src\\dataframerow\\dataframerow.jl:98",
     "output_type": "error",
     "traceback": [
      "MethodError: no method matching getindex(::DataFrameRow{DataFrame,DataFrames.Index}, ::typeof(!), ::Int64)\nClosest candidates are:\n  getindex(::DataFrameRow, !Matched::Union{Signed, Symbol, Unsigned}) at C:\\Users\\Kacper\\.julia\\packages\\DataFrames\\S3ZFo\\src\\dataframerow\\dataframerow.jl:94\n  getindex(::DataFrameRow, !Matched::Union{Regex, AbstractArray{T,1} where T, All, Between, InvertedIndex}) at C:\\Users\\Kacper\\.julia\\packages\\DataFrames\\S3ZFo\\src\\dataframerow\\dataframerow.jl:96\n  getindex(::DataFrameRow, !Matched::Colon) at C:\\Users\\Kacper\\.julia\\packages\\DataFrames\\S3ZFo\\src\\dataframerow\\dataframerow.jl:98",
      "",
      "Stacktrace:",
      " [1] top-level scope at In[27]:2"
     ]
    }
   ],
   "source": [
    "x = DataFrames.first(df2)\n",
    "x[!, 2]"
   ]
  }
 ],
 "metadata": {
  "kernelspec": {
   "display_name": "Julia 1.3.1",
   "language": "julia",
   "name": "julia-1.3"
  },
  "language_info": {
   "file_extension": ".jl",
   "mimetype": "application/julia",
   "name": "julia",
   "version": "1.3.1"
  }
 },
 "nbformat": 4,
 "nbformat_minor": 2
}
